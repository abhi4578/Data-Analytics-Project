{
 "cells": [
  {
   "cell_type": "code",
   "execution_count": 1,
   "metadata": {},
   "outputs": [],
   "source": [
    "import csv\n",
    "import pandas as pd\n",
    "import numpy as np\n",
    "from sklearn.linear_model import LinearRegression\n",
    "from sklearn.svm import LinearSVR,SVR\n",
    "from genetic_selection import GeneticSelectionCV\n",
    "# from sklearn.model_selection import train_test_split"
   ]
  },
  {
   "cell_type": "code",
   "execution_count": 2,
   "metadata": {},
   "outputs": [],
   "source": [
    "# data set preperation"
   ]
  },
  {
   "cell_type": "code",
   "execution_count": 3,
   "metadata": {},
   "outputs": [],
   "source": [
    "gt_2011=\"./Data Base/used data sets/google trends data/Google Trends_2011.csv\"\n",
    "gt_2011= pd.read_csv(gt_2011)\n",
    "gt_2011=np.array(gt_2011[gt_2011.keys()[1:]])\n",
    "\n",
    "gt_2012=\"./Data Base/used data sets/google trends data/Google Trends_2012.csv\"\n",
    "gt_2012= pd.read_csv(gt_2012)\n",
    "gt_2012=np.array(gt_2012[gt_2012.keys()[1:]])\n",
    "\n",
    "gt_2013=\"./Data Base/used data sets/google trends data/Google Trends_2013.csv\"\n",
    "gt_2013= pd.read_csv(gt_2013)\n",
    "gt_2013=np.array(gt_2013[gt_2013.keys()[1:]])\n",
    "\n",
    "gt_2014=\"./Data Base/used data sets/google trends data/Google Trends_2014.csv\"\n",
    "gt_2014= pd.read_csv(gt_2014)\n",
    "gt_2014=np.array(gt_2014[gt_2014.keys()[1:]])"
   ]
  },
  {
   "cell_type": "code",
   "execution_count": 4,
   "metadata": {},
   "outputs": [],
   "source": [
    "# input preperation"
   ]
  },
  {
   "cell_type": "code",
   "execution_count": 76,
   "metadata": {},
   "outputs": [],
   "source": [
    "x_train_0_lag=[]\n",
    "x_test_0_lag=[]\n",
    "x_train_1_lag=[]\n",
    "x_test_1_lag=[]\n",
    "x_train_2_lag=[]\n",
    "x_test_2_lag=[]\n",
    "x_train_3_lag=[]\n",
    "x_test_3_lag=[]"
   ]
  },
  {
   "cell_type": "code",
   "execution_count": 77,
   "metadata": {},
   "outputs": [],
   "source": [
    "# zero lag \n",
    "for i in [gt_2011,gt_2012]:\n",
    "    for j in range(i.shape[0]-3):\n",
    "        x_train_0_lag.append(np.append(np.array([i[j][-1],i[j+1][-1],i[j+2][-1]]),i[j+3][:-1]))\n",
    "x_train_0_lag=np.array(x_train_0_lag)\n",
    "for i in [gt_2013,gt_2014]:\n",
    "    for j in range(i.shape[0]-3):\n",
    "        x_test_0_lag.append(np.append(np.array([i[j][-1],i[j+1][-1],i[j+2][-1]]),i[j+3][:-1]))\n",
    "x_test_0_lag=np.array(x_test_0_lag)\n",
    "\n",
    "# one lag \n",
    "for i in [gt_2011,gt_2012]:\n",
    "    for j in range(i.shape[0]-4):\n",
    "        x_train_1_lag.append(np.append(np.array([i[j][-1],i[j+1][-1],i[j+2][-1]]),i[j+3][:-1]))\n",
    "x_train_1_lag=np.array(x_train_1_lag)\n",
    "for i in [gt_2013,gt_2014]:\n",
    "    for j in range(i.shape[0]-4):\n",
    "        x_test_1_lag.append(np.append(np.array([i[j][-1],i[j+1][-1],i[j+2][-1]]),i[j+3][:-1]))\n",
    "x_test_1_lag=np.array(x_test_1_lag)\n",
    "\n",
    "# two lag \n",
    "for i in [gt_2011,gt_2012]:\n",
    "    for j in range(i.shape[0]-5):\n",
    "        x_train_2_lag.append(np.append(np.array([i[j][-1],i[j+1][-1],i[j+2][-1]]),i[j+3][:-1]))\n",
    "x_train_2_lag=np.array(x_train_2_lag)\n",
    "for i in [gt_2013,gt_2014]:\n",
    "    for j in range(i.shape[0]-5):\n",
    "        x_test_2_lag.append(np.append(np.array([i[j][-1],i[j+1][-1],i[j+2][-1]]),i[j+3][:-1]))\n",
    "x_test_2_lag=np.array(x_test_2_lag)\n",
    "\n",
    "# three lag \n",
    "for i in [gt_2011,gt_2012]:\n",
    "    for j in range(i.shape[0]-6):\n",
    "        x_train_3_lag.append(np.append(np.array([i[j][-1],i[j+1][-1],i[j+2][-1]]),i[j+3][:-1]))\n",
    "x_train_3_lag=np.array(x_train_3_lag)\n",
    "for i in [gt_2013,gt_2014]:\n",
    "    for j in range(i.shape[0]-6):\n",
    "        x_test_3_lag.append(np.append(np.array([i[j][-1],i[j+1][-1],i[j+2][-1]]),i[j+3][:-1]))\n",
    "x_test_3_lag=np.array(x_test_3_lag)\n"
   ]
  },
  {
   "cell_type": "code",
   "execution_count": 78,
   "metadata": {},
   "outputs": [],
   "source": [
    "# label preperation\n",
    "# zero lag \n",
    "y_train_0_lag=np.concatenate((gt_2011[:,-1][3:],gt_2012[:,-1][3:]))\n",
    "y_test_0_lag=np.concatenate((gt_2013[:,-1][3:],gt_2014[:,-1][3:]))\n",
    "# one lag \n",
    "y_train_1_lag=np.concatenate((gt_2011[:,-1][4:],gt_2012[:,-1][4:]))\n",
    "y_test_1_lag=np.concatenate((gt_2013[:,-1][4:],gt_2014[:,-1][4:]))\n",
    "# two lag \n",
    "y_train_2_lag=np.concatenate((gt_2011[:,-1][5:],gt_2012[:,-1][5:]))\n",
    "y_test_2_lag=np.concatenate((gt_2013[:,-1][5:],gt_2014[:,-1][5:]))\n",
    "# three lag \n",
    "y_train_3_lag=np.concatenate((gt_2011[:,-1][6:],gt_2012[:,-1][6:]))\n",
    "y_test_3_lag=np.concatenate((gt_2013[:,-1][6:],gt_2014[:,-1][6:]))"
   ]
  },
  {
   "cell_type": "code",
   "execution_count": 8,
   "metadata": {},
   "outputs": [],
   "source": [
    "# model "
   ]
  },
  {
   "cell_type": "code",
   "execution_count": 11,
   "metadata": {},
   "outputs": [
    {
     "name": "stdout",
     "output_type": "stream",
     "text": [
      "Selecting features with genetic algorithm.\n",
      "gen\tnevals\tavg                  \tstd                  \tmin              \tmax              \n",
      "0  \t20    \t[-10000.       66.95]\t[0.        5.1232314]\t[-10000.     60.]\t[-10000.     77.]\n",
      "1  \t10    \t[-10000.       62.85]\t[0.         2.83328431]\t[-10000.     60.]\t[-10000.     70.]\n",
      "2  \t10    \t[-10000.       60.25]\t[0.         1.54515371]\t[-10000.     56.]\t[-10000.     64.]\n",
      "3  \t16    \t[-10000.      59.7]  \t[0.         2.34733892]\t[-10000.     55.]\t[-10000.     67.]\n",
      "4  \t14    \t[-10000.       58.95]\t[0.         2.01183995]\t[-10000.     55.]\t[-10000.     64.]\n",
      "5  \t12    \t[-10000.       57.85]\t[0.         2.61294853]\t[-10000.     53.]\t[-10000.     63.]\n",
      "6  \t7     \t[-10000.     55.]    \t[0.        2.0976177]  \t[-10000.     52.]\t[-10000.     59.]\n",
      "7  \t13    \t[-10000.       53.95]\t[0.         2.71062723]\t[-10000.     49.]\t[-10000.     63.]\n",
      "8  \t14    \t[-10000.       53.15]\t[0.         2.65094323]\t[-10000.     49.]\t[-10000.     60.]\n",
      "9  \t16    \t[-10000.       50.95]\t[0.         1.71682847]\t[-10000.     47.]\t[-10000.     54.]\n",
      "10 \t9     \t[-10000.       48.75]\t[0.         1.63935963]\t[-10000.     46.]\t[-10000.     52.]\n"
     ]
    }
   ],
   "source": [
    "# zero lag\n",
    "estimator=LinearSVR()\n",
    "selector = GeneticSelectionCV(estimator,\n",
    "                                  cv=5,\n",
    "                                  verbose=2,\n",
    "                                  scoring=\"accuracy\",\n",
    "                                  max_features=7,\n",
    "                                  n_population=20,\n",
    "                                  n_generations=10)\n",
    "selector = selector.fit(x_train_0_lag,y_train_0_lag)\n"
   ]
  },
  {
   "cell_type": "code",
   "execution_count": 79,
   "metadata": {},
   "outputs": [
    {
     "data": {
      "text/plain": [
       "(98, 47)"
      ]
     },
     "execution_count": 79,
     "metadata": {},
     "output_type": "execute_result"
    }
   ],
   "source": [
    "x_train_0_lag=selector.transform(x_train_0_lag)\n",
    "x_test_0_lag=selector.transform(x_test_0_lag)\n",
    "x_train_0_lag.shape"
   ]
  },
  {
   "cell_type": "code",
   "execution_count": 96,
   "metadata": {},
   "outputs": [
    {
     "data": {
      "text/plain": [
       "0.4280244242038327"
      ]
     },
     "execution_count": 96,
     "metadata": {},
     "output_type": "execute_result"
    }
   ],
   "source": [
    "# zero lag\n",
    "reg0 = LinearSVR().fit(x_train_0_lag,y_train_0_lag )\n",
    "reg0.score(x_train_0_lag,y_train_0_lag)"
   ]
  },
  {
   "cell_type": "code",
   "execution_count": 97,
   "metadata": {},
   "outputs": [
    {
     "data": {
      "text/plain": [
       "0.34407097600506764"
      ]
     },
     "execution_count": 97,
     "metadata": {},
     "output_type": "execute_result"
    }
   ],
   "source": [
    "reg0.score(x_test_0_lag,y_test_0_lag)"
   ]
  },
  {
   "cell_type": "code",
   "execution_count": 15,
   "metadata": {},
   "outputs": [],
   "source": [
    "# Returns the coefficient of determination R^2 of the prediction.\n",
    "# The coefficient R^2 is defined as (1 - u/v), where u is the residual sum of squares ((y_true - y_pred) ** 2).sum() \n",
    "# and v is the total sum of squares ((y_true - y_true.mean()) ** 2).sum(). The best possible score is 1.0 and it can \n",
    "# be negative (because the model can be arbitrarily worse). A constant model that always predicts the expected value \n",
    "# of y, disregarding the input features, would get a R^2 score of 0.0."
   ]
  },
  {
   "cell_type": "code",
   "execution_count": 16,
   "metadata": {},
   "outputs": [],
   "source": [
    "# reg.predict(x_test_0_lag)"
   ]
  },
  {
   "cell_type": "code",
   "execution_count": 30,
   "metadata": {},
   "outputs": [
    {
     "name": "stdout",
     "output_type": "stream",
     "text": [
      "Selecting features with genetic algorithm.\n",
      "gen\tnevals\tavg                \tstd                    \tmin              \tmax              \n",
      "0  \t20    \t[-10000.      64.5]\t[0.         5.49090157]\t[-10000.     56.]\t[-10000.     74.]\n",
      "1  \t9     \t[-10000.       58.75]\t[0.        2.7545417]  \t[-10000.     54.]\t[-10000.     66.]\n",
      "2  \t10    \t[-10000.       57.35]\t[0.         2.45509674]\t[-10000.     54.]\t[-10000.     61.]\n",
      "3  \t11    \t[-10000.       56.75]\t[0.         3.63145976]\t[-10000.     53.]\t[-10000.     67.]\n",
      "4  \t11    \t[-10000.      54.6]  \t[0.         2.39582971]\t[-10000.     50.]\t[-10000.     61.]\n",
      "5  \t12    \t[-10000.      53.2]  \t[0.         2.35796522]\t[-10000.     49.]\t[-10000.     59.]\n",
      "6  \t14    \t[-10000.       51.75]\t[0.         1.66958079]\t[-10000.     49.]\t[-10000.     54.]\n",
      "7  \t13    \t[-10000.      50.4]  \t[0.         2.03469899]\t[-10000.     44.]\t[-10000.     55.]\n",
      "8  \t14    \t[-10000.     49.]    \t[0.         2.42899156]\t[-10000.     43.]\t[-10000.     52.]\n",
      "9  \t9     \t[-10000.       47.55]\t[0.         3.07367858]\t[-10000.     43.]\t[-10000.     55.]\n",
      "10 \t9     \t[-10000.      44.9]  \t[0.         2.21133444]\t[-10000.     42.]\t[-10000.     49.]\n"
     ]
    }
   ],
   "source": [
    "# one lag\n",
    "estimator=LinearSVR()\n",
    "selector = GeneticSelectionCV(estimator,\n",
    "                                  cv=5,\n",
    "                                  verbose=2,\n",
    "                                  scoring=\"accuracy\",\n",
    "                                  max_features=8,\n",
    "                                  n_population=20,\n",
    "                                  n_generations=10)\n",
    "selector = selector.fit(x_train_1_lag,y_train_1_lag)\n"
   ]
  },
  {
   "cell_type": "code",
   "execution_count": 98,
   "metadata": {},
   "outputs": [
    {
     "data": {
      "text/plain": [
       "(96, 47)"
      ]
     },
     "execution_count": 98,
     "metadata": {},
     "output_type": "execute_result"
    }
   ],
   "source": [
    "x_train_1_lag=selector.transform(x_train_1_lag)\n",
    "x_test_1_lag=selector.transform(x_test_1_lag)\n",
    "x_train_1_lag.shape"
   ]
  },
  {
   "cell_type": "code",
   "execution_count": 99,
   "metadata": {},
   "outputs": [
    {
     "data": {
      "text/plain": [
       "0.4286515630215799"
      ]
     },
     "execution_count": 99,
     "metadata": {},
     "output_type": "execute_result"
    }
   ],
   "source": [
    "# one lag\n",
    "reg1 = LinearSVR().fit(x_train_1_lag,y_train_1_lag )\n",
    "reg1.score(x_train_1_lag,y_train_1_lag)"
   ]
  },
  {
   "cell_type": "code",
   "execution_count": 100,
   "metadata": {},
   "outputs": [
    {
     "data": {
      "text/plain": [
       "0.2831422214604844"
      ]
     },
     "execution_count": 100,
     "metadata": {},
     "output_type": "execute_result"
    }
   ],
   "source": [
    "reg1.score(x_test_1_lag,y_test_1_lag)"
   ]
  },
  {
   "cell_type": "code",
   "execution_count": 45,
   "metadata": {},
   "outputs": [
    {
     "name": "stdout",
     "output_type": "stream",
     "text": [
      "Selecting features with genetic algorithm.\n",
      "gen\tnevals\tavg                    \tstd                    \tmin              \tmax              \n",
      "0  \t40    \t[-10000.        65.675]\t[0.         5.86253998]\t[-10000.     55.]\t[-10000.     82.]\n",
      "1  \t32    \t[-10000.        61.275]\t[0.        3.9305693]  \t[-10000.     53.]\t[-10000.     69.]\n",
      "2  \t26    \t[-10000.        58.525]\t[0.         3.17795138]\t[-10000.     51.]\t[-10000.     65.]\n",
      "3  \t25    \t[-10000.      56.5]    \t[0.         2.46981781]\t[-10000.     49.]\t[-10000.     62.]\n",
      "4  \t28    \t[-10000.      54.7]    \t[0.         2.34733892]\t[-10000.     48.]\t[-10000.     58.]\n",
      "5  \t17    \t[-10000.        52.875]\t[0.        2.7128168]  \t[-10000.     47.]\t[-10000.     57.]\n",
      "6  \t24    \t[-10000.       51.65]  \t[0.         3.40991202]\t[-10000.     44.]\t[-10000.     59.]\n",
      "7  \t21    \t[-10000.        49.875]\t[0.        2.7945259]  \t[-10000.     44.]\t[-10000.     57.]\n",
      "8  \t22    \t[-10000.       47.75]  \t[0.         1.79930542]\t[-10000.     43.]\t[-10000.     53.]\n",
      "9  \t28    \t[-10000.        46.525]\t[0.         1.93633029]\t[-10000.     42.]\t[-10000.     52.]\n",
      "10 \t20    \t[-10000.        45.325]\t[0.         2.12588217]\t[-10000.     41.]\t[-10000.     51.]\n",
      "11 \t24    \t[-10000.       44.05]  \t[0.         1.81590198]\t[-10000.     41.]\t[-10000.     48.]\n",
      "12 \t20    \t[-10000.        43.175]\t[0.         2.32257939]\t[-10000.     38.]\t[-10000.     50.]\n",
      "13 \t21    \t[-10000.        41.825]\t[0.         1.65661553]\t[-10000.     38.]\t[-10000.     46.]\n",
      "14 \t30    \t[-10000.        41.025]\t[0.         2.28568917]\t[-10000.     38.]\t[-10000.     48.]\n",
      "15 \t17    \t[-10000.      39.7]    \t[0.         1.64620776]\t[-10000.     37.]\t[-10000.     46.]\n",
      "16 \t31    \t[-10000.       39.25]  \t[0.         2.42641711]\t[-10000.     35.]\t[-10000.     46.]\n",
      "17 \t23    \t[-10000.       38.35]  \t[0.         2.15116248]\t[-10000.     35.]\t[-10000.     45.]\n",
      "18 \t29    \t[-10000.        37.875]\t[0.         2.57087048]\t[-10000.     34.]\t[-10000.     47.]\n",
      "19 \t28    \t[-10000.        36.975]\t[0.       2.150436]    \t[-10000.     34.]\t[-10000.     44.]\n",
      "20 \t19    \t[-10000.      35.9]    \t[0.         1.81383571]\t[-10000.     34.]\t[-10000.     42.]\n"
     ]
    }
   ],
   "source": [
    "# two lag\n",
    "estimator=LinearSVR()\n",
    "selector = GeneticSelectionCV(estimator,\n",
    "                                  cv=5,\n",
    "                                  verbose=2,\n",
    "                                  scoring=\"accuracy\",\n",
    "                                  max_features=8,\n",
    "                                  n_population=40,\n",
    "                                  n_generations=20)\n",
    "selector = selector.fit(x_train_2_lag,y_train_2_lag)\n"
   ]
  },
  {
   "cell_type": "code",
   "execution_count": 101,
   "metadata": {},
   "outputs": [
    {
     "data": {
      "text/plain": [
       "(94, 47)"
      ]
     },
     "execution_count": 101,
     "metadata": {},
     "output_type": "execute_result"
    }
   ],
   "source": [
    "x_train_2_lag=selector.transform(x_train_2_lag)\n",
    "x_test_2_lag=selector.transform(x_test_2_lag)\n",
    "x_train_2_lag.shape"
   ]
  },
  {
   "cell_type": "code",
   "execution_count": 116,
   "metadata": {},
   "outputs": [
    {
     "data": {
      "text/plain": [
       "0.3517854139569553"
      ]
     },
     "execution_count": 116,
     "metadata": {},
     "output_type": "execute_result"
    }
   ],
   "source": [
    "# two lag\n",
    "reg2 = LinearSVR().fit(x_train_2_lag,y_train_2_lag )\n",
    "reg2.score(x_train_2_lag,y_train_2_lag)"
   ]
  },
  {
   "cell_type": "code",
   "execution_count": 117,
   "metadata": {},
   "outputs": [
    {
     "data": {
      "text/plain": [
       "0.2342432768085562"
      ]
     },
     "execution_count": 117,
     "metadata": {},
     "output_type": "execute_result"
    }
   ],
   "source": [
    "reg2.score(x_test_2_lag,y_test_2_lag)"
   ]
  },
  {
   "cell_type": "code",
   "execution_count": 71,
   "metadata": {},
   "outputs": [
    {
     "name": "stdout",
     "output_type": "stream",
     "text": [
      "Selecting features with genetic algorithm.\n",
      "gen\tnevals\tavg                              \tstd                  \tmin              \tmax              \n",
      "0  \t30    \t[-10000.             66.46666667]\t[0.        4.6240915]\t[-10000.     56.]\t[-10000.     74.]\n",
      "1  \t17    \t[-10000.             64.26666667]\t[0.         3.45382236]\t[-10000.     56.]\t[-10000.     73.]\n",
      "2  \t22    \t[-10000.             60.96666667]\t[0.        2.7505555]  \t[-10000.     57.]\t[-10000.     70.]\n",
      "3  \t17    \t[-10000.             59.16666667]\t[0.         1.98466342]\t[-10000.     55.]\t[-10000.     64.]\n",
      "4  \t12    \t[-10000.             58.16666667]\t[0.         2.57012754]\t[-10000.     55.]\t[-10000.     67.]\n",
      "5  \t16    \t[-10000.             56.83333333]\t[0.         1.93362067]\t[-10000.     54.]\t[-10000.     63.]\n",
      "6  \t14    \t[-10000.      55.9]              \t[0.         1.59895799]\t[-10000.     53.]\t[-10000.     62.]\n",
      "7  \t16    \t[-10000.             55.36666667]\t[0.         1.90583898]\t[-10000.     51.]\t[-10000.     60.]\n",
      "8  \t15    \t[-10000.             53.66666667]\t[0.         1.69967317]\t[-10000.     51.]\t[-10000.     58.]\n",
      "9  \t19    \t[-10000.             52.66666667]\t[0.         2.03851798]\t[-10000.     48.]\t[-10000.     57.]\n",
      "10 \t13    \t[-10000.             51.13333333]\t[0.         1.80246744]\t[-10000.     47.]\t[-10000.     54.]\n"
     ]
    }
   ],
   "source": [
    "# three lag\n",
    "estimator=LinearSVR()\n",
    "selector = GeneticSelectionCV(estimator,\n",
    "                                  cv=5,\n",
    "                                  verbose=2,\n",
    "                                  scoring=\"accuracy\",\n",
    "                                  max_features=7,\n",
    "                                  n_population=30,\n",
    "                                  n_generations=10)\n",
    "selector = selector.fit(x_train_3_lag,y_train_3_lag)\n"
   ]
  },
  {
   "cell_type": "code",
   "execution_count": 118,
   "metadata": {},
   "outputs": [
    {
     "data": {
      "text/plain": [
       "(92, 47)"
      ]
     },
     "execution_count": 118,
     "metadata": {},
     "output_type": "execute_result"
    }
   ],
   "source": [
    "x_train_3_lag=selector.transform(x_train_3_lag)\n",
    "x_test_3_lag=selector.transform(x_test_3_lag)\n",
    "x_train_3_lag.shape"
   ]
  },
  {
   "cell_type": "code",
   "execution_count": 119,
   "metadata": {},
   "outputs": [
    {
     "data": {
      "text/plain": [
       "0.23322863026449747"
      ]
     },
     "execution_count": 119,
     "metadata": {},
     "output_type": "execute_result"
    }
   ],
   "source": [
    "# three lag\n",
    "reg3 = LinearSVR().fit(x_train_3_lag,y_train_3_lag )\n",
    "reg3.score(x_train_3_lag,y_train_3_lag)"
   ]
  },
  {
   "cell_type": "code",
   "execution_count": 120,
   "metadata": {},
   "outputs": [
    {
     "data": {
      "text/plain": [
       "0.16197256008940042"
      ]
     },
     "execution_count": 120,
     "metadata": {},
     "output_type": "execute_result"
    }
   ],
   "source": [
    "reg3.score(x_test_3_lag,y_test_3_lag)"
   ]
  },
  {
   "cell_type": "code",
   "execution_count": 121,
   "metadata": {},
   "outputs": [],
   "source": [
    "gt_0_p_train=reg0.predict(x_train_0_lag)\n",
    "gt_0_a_train=y_train_0_lag\n",
    "gt_0_p_test=reg0.predict(x_test_0_lag)\n",
    "gt_0_a_test=y_test_0_lag\n",
    "\n",
    "gt_1_p_train=reg1.predict(x_train_1_lag)\n",
    "gt_1_a_train=y_train_1_lag\n",
    "gt_1_p_test=reg1.predict(x_test_1_lag)\n",
    "gt_1_a_test=y_test_1_lag\n",
    "\n",
    "gt_2_p_train=reg2.predict(x_train_2_lag)\n",
    "gt_2_a_train=y_train_2_lag\n",
    "gt_2_p_test=reg2.predict(x_test_2_lag)\n",
    "gt_2_a_test=y_test_2_lag\n",
    "\n",
    "gt_3_p_train=reg3.predict(x_train_3_lag)\n",
    "gt_3_a_train=y_train_3_lag\n",
    "gt_3_p_test=reg3.predict(x_test_3_lag)\n",
    "gt_3_a_test=y_test_3_lag\n",
    "\n",
    "np.save(\"gt_0_p_test\",gt_0_p_test)\n",
    "np.save(\"gt_0_a_test\",gt_0_a_test)\n",
    "np.save(\"gt_0_p_train\",gt_0_p_train)\n",
    "np.save(\"gt_0_a_train\",gt_0_a_train)\n",
    "np.save(\"gt_1_p_test\",gt_1_p_test)\n",
    "np.save(\"gt_1_a_test\",gt_1_a_test)\n",
    "np.save(\"gt_1_p_train\",gt_1_p_train)\n",
    "np.save(\"gt_1_a_train\",gt_1_a_train)\n",
    "np.save(\"gt_2_p_test\",gt_2_p_test)\n",
    "np.save(\"gt_2_a_test\",gt_2_a_test)\n",
    "np.save(\"gt_2_p_train\",gt_2_p_train)\n",
    "np.save(\"gt_2_a_train\",gt_2_a_train)\n",
    "np.save(\"gt_3_p_test\",gt_3_p_test)\n",
    "np.save(\"gt_3_a_test\",gt_3_a_test)\n",
    "np.save(\"gt_3_p_train\",gt_3_p_train)\n",
    "np.save(\"gt_3_a_train\",gt_3_a_train)\n",
    "\n"
   ]
  },
  {
   "cell_type": "code",
   "execution_count": null,
   "metadata": {},
   "outputs": [],
   "source": []
  }
 ],
 "metadata": {
  "kernelspec": {
   "display_name": "Python 3",
   "language": "python",
   "name": "python3"
  },
  "language_info": {
   "codemirror_mode": {
    "name": "ipython",
    "version": 3
   },
   "file_extension": ".py",
   "mimetype": "text/x-python",
   "name": "python",
   "nbconvert_exporter": "python",
   "pygments_lexer": "ipython3",
   "version": "3.5.4"
  }
 },
 "nbformat": 4,
 "nbformat_minor": 2
}
