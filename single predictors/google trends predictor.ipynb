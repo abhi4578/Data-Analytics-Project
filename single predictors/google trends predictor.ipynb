{
 "cells": [
  {
   "cell_type": "code",
   "execution_count": 1,
   "metadata": {},
   "outputs": [],
   "source": [
    "import csv\n",
    "import pandas as pd\n",
    "import numpy as np\n",
    "from sklearn.linear_model import LinearRegression\n",
    "from sklearn.svm import LinearSVR,SVR\n",
    "# from sklearn.model_selection import train_test_split"
   ]
  },
  {
   "cell_type": "code",
   "execution_count": 2,
   "metadata": {},
   "outputs": [],
   "source": [
    "# data set preperation"
   ]
  },
  {
   "cell_type": "code",
   "execution_count": 3,
   "metadata": {},
   "outputs": [],
   "source": [
    "gt_2011=\"./Data Base/used data sets/google trends data/Google Trends_2011.csv\"\n",
    "gt_2011= pd.read_csv(gt_2011)\n",
    "gt_2011=np.array(gt_2011[gt_2011.keys()[1:]])\n",
    "\n",
    "gt_2012=\"./Data Base/used data sets/google trends data/Google Trends_2012.csv\"\n",
    "gt_2012= pd.read_csv(gt_2012)\n",
    "gt_2012=np.array(gt_2012[gt_2012.keys()[1:]])\n",
    "\n",
    "gt_2013=\"./Data Base/used data sets/google trends data/Google Trends_2013.csv\"\n",
    "gt_2013= pd.read_csv(gt_2013)\n",
    "gt_2013=np.array(gt_2013[gt_2013.keys()[1:]])\n",
    "\n",
    "gt_2014=\"./Data Base/used data sets/google trends data/Google Trends_2014.csv\"\n",
    "gt_2014= pd.read_csv(gt_2014)\n",
    "gt_2014=np.array(gt_2014[gt_2014.keys()[1:]])"
   ]
  },
  {
   "cell_type": "code",
   "execution_count": 4,
   "metadata": {},
   "outputs": [
    {
     "data": {
      "text/plain": [
       "(52, 130)"
      ]
     },
     "execution_count": 4,
     "metadata": {},
     "output_type": "execute_result"
    }
   ],
   "source": [
    "# input preperation"
   ]
  },
  {
   "cell_type": "code",
   "execution_count": 5,
   "metadata": {},
   "outputs": [],
   "source": [
    "x_train_0_lag=[]\n",
    "x_test_0_lag=[]\n",
    "x_train_1_lag=[]\n",
    "x_test_1_lag=[]\n",
    "x_train_2_lag=[]\n",
    "x_test_2_lag=[]\n",
    "x_train_3_lag=[]\n",
    "x_test_3_lag=[]"
   ]
  },
  {
   "cell_type": "code",
   "execution_count": 6,
   "metadata": {},
   "outputs": [],
   "source": [
    "# zero lag \n",
    "for i in [gt_2011,gt_2012]:\n",
    "    for j in range(i.shape[0]-3):\n",
    "        x_train_0_lag.append(np.append(np.array([i[j][-1],i[j+1][-1],i[j+2][-1]]),i[j+3][:-1]))\n",
    "x_train_0_lag=np.array(x_train_0_lag)\n",
    "for i in [gt_2013,gt_2014]:\n",
    "    for j in range(i.shape[0]-3):\n",
    "        x_test_0_lag.append(np.append(np.array([i[j][-1],i[j+1][-1],i[j+2][-1]]),i[j+3][:-1]))\n",
    "x_test_0_lag=np.array(x_test_0_lag)\n",
    "\n",
    "# one lag \n",
    "for i in [gt_2011,gt_2012]:\n",
    "    for j in range(i.shape[0]-4):\n",
    "        x_train_1_lag.append(np.append(np.array([i[j][-1],i[j+1][-1],i[j+2][-1]]),i[j+3][:-1]))\n",
    "x_train_1_lag=np.array(x_train_1_lag)\n",
    "for i in [gt_2013,gt_2014]:\n",
    "    for j in range(i.shape[0]-4):\n",
    "        x_test_1_lag.append(np.append(np.array([i[j][-1],i[j+1][-1],i[j+2][-1]]),i[j+3][:-1]))\n",
    "x_test_1_lag=np.array(x_test_1_lag)\n",
    "\n",
    "# two lag \n",
    "for i in [gt_2011,gt_2012]:\n",
    "    for j in range(i.shape[0]-5):\n",
    "        x_train_2_lag.append(np.append(np.array([i[j][-1],i[j+1][-1],i[j+2][-1]]),i[j+3][:-1]))\n",
    "x_train_2_lag=np.array(x_train_2_lag)\n",
    "for i in [gt_2013,gt_2014]:\n",
    "    for j in range(i.shape[0]-5):\n",
    "        x_test_2_lag.append(np.append(np.array([i[j][-1],i[j+1][-1],i[j+2][-1]]),i[j+3][:-1]))\n",
    "x_test_2_lag=np.array(x_test_2_lag)\n",
    "\n",
    "# three lag \n",
    "for i in [gt_2011,gt_2012]:\n",
    "    for j in range(i.shape[0]-6):\n",
    "        x_train_3_lag.append(np.append(np.array([i[j][-1],i[j+1][-1],i[j+2][-1]]),i[j+3][:-1]))\n",
    "x_train_3_lag=np.array(x_train_3_lag)\n",
    "for i in [gt_2013,gt_2014]:\n",
    "    for j in range(i.shape[0]-6):\n",
    "        x_test_3_lag.append(np.append(np.array([i[j][-1],i[j+1][-1],i[j+2][-1]]),i[j+3][:-1]))\n",
    "x_test_3_lag=np.array(x_test_3_lag)\n"
   ]
  },
  {
   "cell_type": "code",
   "execution_count": 7,
   "metadata": {},
   "outputs": [],
   "source": [
    "# label preperation\n",
    "# zero lag \n",
    "y_train_0_lag=np.concatenate((gt_2011[:,-1][3:],gt_2012[:,-1][3:]))\n",
    "y_test_0_lag=np.concatenate((gt_2013[:,-1][3:],gt_2014[:,-1][3:]))\n",
    "# one lag \n",
    "y_train_1_lag=np.concatenate((gt_2011[:,-1][4:],gt_2012[:,-1][4:]))\n",
    "y_test_1_lag=np.concatenate((gt_2013[:,-1][4:],gt_2014[:,-1][4:]))\n",
    "# two lag \n",
    "y_train_2_lag=np.concatenate((gt_2011[:,-1][5:],gt_2012[:,-1][5:]))\n",
    "y_test_2_lag=np.concatenate((gt_2013[:,-1][5:],gt_2014[:,-1][5:]))\n",
    "# three lag \n",
    "y_train_3_lag=np.concatenate((gt_2011[:,-1][6:],gt_2012[:,-1][6:]))\n",
    "y_test_3_lag=np.concatenate((gt_2013[:,-1][6:],gt_2014[:,-1][6:]))"
   ]
  },
  {
   "cell_type": "code",
   "execution_count": 8,
   "metadata": {},
   "outputs": [],
   "source": [
    "# model "
   ]
  },
  {
   "cell_type": "code",
   "execution_count": 9,
   "metadata": {},
   "outputs": [
    {
     "data": {
      "text/plain": [
       "0.6650762434679134"
      ]
     },
     "execution_count": 9,
     "metadata": {},
     "output_type": "execute_result"
    }
   ],
   "source": [
    "# zero lag\n",
    "reg0 = LinearSVR().fit(x_train_0_lag,y_train_0_lag )\n",
    "reg0.score(x_train_0_lag,y_train_0_lag)"
   ]
  },
  {
   "cell_type": "code",
   "execution_count": 10,
   "metadata": {},
   "outputs": [
    {
     "data": {
      "text/plain": [
       "0.6721479640880663"
      ]
     },
     "execution_count": 10,
     "metadata": {},
     "output_type": "execute_result"
    }
   ],
   "source": [
    "reg0.score(x_test_0_lag,y_test_0_lag)"
   ]
  },
  {
   "cell_type": "code",
   "execution_count": 11,
   "metadata": {},
   "outputs": [],
   "source": [
    "# Returns the coefficient of determination R^2 of the prediction.\n",
    "# The coefficient R^2 is defined as (1 - u/v), where u is the residual sum of squares ((y_true - y_pred) ** 2).sum() \n",
    "# and v is the total sum of squares ((y_true - y_true.mean()) ** 2).sum(). The best possible score is 1.0 and it can \n",
    "# be negative (because the model can be arbitrarily worse). A constant model that always predicts the expected value \n",
    "# of y, disregarding the input features, would get a R^2 score of 0.0."
   ]
  },
  {
   "cell_type": "code",
   "execution_count": 12,
   "metadata": {},
   "outputs": [],
   "source": [
    "# reg.predict(x_test_0_lag)"
   ]
  },
  {
   "cell_type": "code",
   "execution_count": 21,
   "metadata": {},
   "outputs": [
    {
     "data": {
      "text/plain": [
       "0.566205242707952"
      ]
     },
     "execution_count": 21,
     "metadata": {},
     "output_type": "execute_result"
    }
   ],
   "source": [
    "# one lag\n",
    "reg1 = LinearSVR().fit(x_train_1_lag,y_train_1_lag )\n",
    "reg1.score(x_train_1_lag,y_train_1_lag)"
   ]
  },
  {
   "cell_type": "code",
   "execution_count": 22,
   "metadata": {},
   "outputs": [
    {
     "data": {
      "text/plain": [
       "0.6054684691067775"
      ]
     },
     "execution_count": 22,
     "metadata": {},
     "output_type": "execute_result"
    }
   ],
   "source": [
    "reg1.score(x_test_1_lag,y_test_1_lag)"
   ]
  },
  {
   "cell_type": "code",
   "execution_count": 27,
   "metadata": {},
   "outputs": [
    {
     "data": {
      "text/plain": [
       "0.4875591994640038"
      ]
     },
     "execution_count": 27,
     "metadata": {},
     "output_type": "execute_result"
    }
   ],
   "source": [
    "# two lag\n",
    "reg2 = LinearSVR().fit(x_train_2_lag,y_train_2_lag )\n",
    "reg2.score(x_train_2_lag,y_train_2_lag)"
   ]
  },
  {
   "cell_type": "code",
   "execution_count": 28,
   "metadata": {},
   "outputs": [
    {
     "data": {
      "text/plain": [
       "0.5130726921567333"
      ]
     },
     "execution_count": 28,
     "metadata": {},
     "output_type": "execute_result"
    }
   ],
   "source": [
    "reg2.score(x_test_2_lag,y_test_2_lag)"
   ]
  },
  {
   "cell_type": "code",
   "execution_count": 29,
   "metadata": {},
   "outputs": [
    {
     "data": {
      "text/plain": [
       "0.36349405516883915"
      ]
     },
     "execution_count": 29,
     "metadata": {},
     "output_type": "execute_result"
    }
   ],
   "source": [
    "# three lag\n",
    "reg3 = LinearSVR().fit(x_train_3_lag,y_train_3_lag )\n",
    "reg3.score(x_train_3_lag,y_train_3_lag)"
   ]
  },
  {
   "cell_type": "code",
   "execution_count": 30,
   "metadata": {},
   "outputs": [
    {
     "data": {
      "text/plain": [
       "0.3725499003615256"
      ]
     },
     "execution_count": 30,
     "metadata": {},
     "output_type": "execute_result"
    }
   ],
   "source": [
    "reg3.score(x_test_3_lag,y_test_3_lag)"
   ]
  },
  {
   "cell_type": "code",
   "execution_count": 31,
   "metadata": {},
   "outputs": [],
   "source": [
    "gt_0_p_train=reg0.predict(x_train_0_lag)\n",
    "gt_0_a_train=y_train_0_lag\n",
    "gt_0_p_test=reg0.predict(x_test_0_lag)\n",
    "gt_0_a_test=y_test_0_lag\n",
    "\n",
    "gt_1_p_train=reg1.predict(x_train_1_lag)\n",
    "gt_1_a_train=y_train_1_lag\n",
    "gt_1_p_test=reg1.predict(x_test_1_lag)\n",
    "gt_1_a_test=y_test_1_lag\n",
    "\n",
    "gt_2_p_train=reg2.predict(x_train_2_lag)\n",
    "gt_2_a_train=y_train_2_lag\n",
    "gt_2_p_test=reg2.predict(x_test_2_lag)\n",
    "gt_2_a_test=y_test_2_lag\n",
    "\n",
    "gt_3_p_train=reg3.predict(x_train_3_lag)\n",
    "gt_3_a_train=y_train_3_lag\n",
    "gt_3_p_test=reg3.predict(x_test_3_lag)\n",
    "gt_3_a_test=y_test_3_lag\n",
    "\n",
    "np.save(\"gt_0_p_test\",gt_0_p_test)\n",
    "np.save(\"gt_0_a_test\",gt_0_a_test)\n",
    "np.save(\"gt_0_p_train\",gt_0_p_train)\n",
    "np.save(\"gt_0_a_train\",gt_0_a_train)\n",
    "np.save(\"gt_1_p_test\",gt_1_p_test)\n",
    "np.save(\"gt_1_a_test\",gt_1_a_test)\n",
    "np.save(\"gt_1_p_train\",gt_1_p_train)\n",
    "np.save(\"gt_1_a_train\",gt_1_a_train)\n",
    "np.save(\"gt_2_p_test\",gt_2_p_test)\n",
    "np.save(\"gt_2_a_test\",gt_2_a_test)\n",
    "np.save(\"gt_2_p_train\",gt_2_p_train)\n",
    "np.save(\"gt_2_a_train\",gt_2_a_train)\n",
    "np.save(\"gt_3_p_test\",gt_3_p_test)\n",
    "np.save(\"gt_3_a_test\",gt_3_a_test)\n",
    "np.save(\"gt_3_p_train\",gt_3_p_train)\n",
    "np.save(\"gt_3_a_train\",gt_3_a_train)\n",
    "\n"
   ]
  },
  {
   "cell_type": "code",
   "execution_count": null,
   "metadata": {},
   "outputs": [],
   "source": []
  }
 ],
 "metadata": {
  "kernelspec": {
   "display_name": "Python 3",
   "language": "python",
   "name": "python3"
  },
  "language_info": {
   "codemirror_mode": {
    "name": "ipython",
    "version": 3
   },
   "file_extension": ".py",
   "mimetype": "text/x-python",
   "name": "python",
   "nbconvert_exporter": "python",
   "pygments_lexer": "ipython3",
   "version": "3.5.4"
  }
 },
 "nbformat": 4,
 "nbformat_minor": 2
}
