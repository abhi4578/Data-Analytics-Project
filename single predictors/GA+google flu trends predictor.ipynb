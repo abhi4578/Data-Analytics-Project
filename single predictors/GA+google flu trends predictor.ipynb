{
 "cells": [
  {
   "cell_type": "code",
   "execution_count": 1,
   "metadata": {},
   "outputs": [],
   "source": [
    "import csv\n",
    "import pandas as pd\n",
    "import numpy as np\n",
    "from sklearn.linear_model import LinearRegression\n",
    "from sklearn.svm import LinearSVR\n",
    "from genetic_selection import GeneticSelectionCV\n",
    "# from sklearn.model_selection import train_test_split"
   ]
  },
  {
   "cell_type": "code",
   "execution_count": 2,
   "metadata": {},
   "outputs": [],
   "source": [
    "# data set preperation"
   ]
  },
  {
   "cell_type": "code",
   "execution_count": 3,
   "metadata": {},
   "outputs": [],
   "source": [
    "gtf_2011=\"./Data Base/used data sets/google flu trend data/gtf_2011\"\n",
    "gtf_2011= pd.read_table(gtf_2011,sep=',')\n",
    "gtf_2011=np.array(gtf_2011[gtf_2011.keys()[1:]])\n",
    "\n",
    "gtf_2012=\"./Data Base/used data sets/google flu trend data/gtf_2012\"\n",
    "gtf_2012= pd.read_table(gtf_2012,sep=',')\n",
    "gtf_2012=np.array(gtf_2012[gtf_2012.keys()[1:]])\n",
    "\n",
    "gtf_2013=\"./Data Base/used data sets/google flu trend data/gtf_2013\"\n",
    "gtf_2013= pd.read_table(gtf_2013,sep=',')\n",
    "gtf_2013=np.array(gtf_2013[gtf_2013.keys()[1:]])\n",
    "\n",
    "gtf_2014=\"./Data Base/used data sets/google flu trend data/gtf_2014\"\n",
    "gtf_2014= pd.read_table(gtf_2014,sep=',')\n",
    "gtf_2014=np.array(gtf_2014[gtf_2014.keys()[1:]])\n",
    "\n",
    "\n",
    "CDC_2011=\"./Data Base/used data sets/google flu trend data/ILINet_2011.csv\"\n",
    "CDC_2011= pd.read_csv(CDC_2011)\n",
    "CDC_2011=np.array(CDC_2011[['TOTAL PATIENTS']])\n",
    "\n",
    "CDC_2012=\"./Data Base/used data sets/google flu trend data/ILINet_2012.csv\"\n",
    "CDC_2012= pd.read_csv(CDC_2012)\n",
    "CDC_2012=np.array(CDC_2012[['TOTAL PATIENTS']])\n",
    "\n",
    "CDC_2013=\"./Data Base/used data sets/google flu trend data/ILINet_2013.csv\"\n",
    "CDC_2013= pd.read_csv(CDC_2013)\n",
    "CDC_2013=np.array(CDC_2013[['TOTAL PATIENTS']])\n",
    "\n",
    "CDC_2014=\"./Data Base/used data sets/google flu trend data/ILINet_2014.csv\"\n",
    "CDC_2014= pd.read_csv(CDC_2014)\n",
    "CDC_2014=np.array(CDC_2014[['TOTAL PATIENTS']])\n",
    "\n",
    "gtf_2011=np.append(gtf_2011,CDC_2011,axis=1)\n",
    "gtf_2012=np.append(gtf_2012,CDC_2012,axis=1)\n",
    "gtf_2013=np.append(gtf_2013,CDC_2013,axis=1)\n",
    "gtf_2014=np.append(gtf_2014,CDC_2014,axis=1)"
   ]
  },
  {
   "cell_type": "code",
   "execution_count": 5,
   "metadata": {},
   "outputs": [],
   "source": [
    "# input preperation"
   ]
  },
  {
   "cell_type": "code",
   "execution_count": 31,
   "metadata": {},
   "outputs": [],
   "source": [
    "x_train_0_lag=[]\n",
    "x_test_0_lag=[]\n",
    "x_train_1_lag=[]\n",
    "x_test_1_lag=[]\n",
    "x_train_2_lag=[]\n",
    "x_test_2_lag=[]\n",
    "x_train_3_lag=[]\n",
    "x_test_3_lag=[]"
   ]
  },
  {
   "cell_type": "code",
   "execution_count": 32,
   "metadata": {},
   "outputs": [],
   "source": [
    "# zero lag \n",
    "for i in [gtf_2011,gtf_2012]:\n",
    "    for j in range(i.shape[0]-3):\n",
    "        x_train_0_lag.append(np.append(np.array([i[j][-1],i[j+1][-1],i[j+2][-1]]),i[j+3][:-1]))\n",
    "x_train_0_lag=np.array(x_train_0_lag)\n",
    "for i in [gtf_2013,gtf_2014]:\n",
    "    for j in range(i.shape[0]-3):\n",
    "        x_test_0_lag.append(np.append(np.array([i[j][-1],i[j+1][-1],i[j+2][-1]]),i[j+3][:-1]))\n",
    "x_test_0_lag=np.array(x_test_0_lag)\n",
    "\n",
    "# one lag \n",
    "for i in [gtf_2011,gtf_2012]:\n",
    "    for j in range(i.shape[0]-4):\n",
    "        x_train_1_lag.append(np.append(np.array([i[j][-1],i[j+1][-1],i[j+2][-1]]),i[j+3][:-1]))\n",
    "x_train_1_lag=np.array(x_train_1_lag)\n",
    "for i in [gtf_2013,gtf_2014]:\n",
    "    for j in range(i.shape[0]-4):\n",
    "        x_test_1_lag.append(np.append(np.array([i[j][-1],i[j+1][-1],i[j+2][-1]]),i[j+3][:-1]))\n",
    "x_test_1_lag=np.array(x_test_1_lag)\n",
    "\n",
    "# two lag \n",
    "for i in [gtf_2011,gtf_2012]:\n",
    "    for j in range(i.shape[0]-5):\n",
    "        x_train_2_lag.append(np.append(np.array([i[j][-1],i[j+1][-1],i[j+2][-1]]),i[j+3][:-1]))\n",
    "x_train_2_lag=np.array(x_train_2_lag)\n",
    "for i in [gtf_2013,gtf_2014]:\n",
    "    for j in range(i.shape[0]-5):\n",
    "        x_test_2_lag.append(np.append(np.array([i[j][-1],i[j+1][-1],i[j+2][-1]]),i[j+3][:-1]))\n",
    "x_test_2_lag=np.array(x_test_2_lag)\n",
    "\n",
    "# three lag \n",
    "for i in [gtf_2011,gtf_2012]:\n",
    "    for j in range(i.shape[0]-6):\n",
    "        x_train_3_lag.append(np.append(np.array([i[j][-1],i[j+1][-1],i[j+2][-1]]),i[j+3][:-1]))\n",
    "x_train_3_lag=np.array(x_train_3_lag)\n",
    "for i in [gtf_2013,gtf_2014]:\n",
    "    for j in range(i.shape[0]-6):\n",
    "        x_test_3_lag.append(np.append(np.array([i[j][-1],i[j+1][-1],i[j+2][-1]]),i[j+3][:-1]))\n",
    "x_test_3_lag=np.array(x_test_3_lag)\n"
   ]
  },
  {
   "cell_type": "code",
   "execution_count": 33,
   "metadata": {},
   "outputs": [],
   "source": [
    "# label preperation\n",
    "# zero lag \n",
    "y_train_0_lag=np.concatenate((gtf_2011[:,-1][3:],gtf_2012[:,-1][3:]))\n",
    "y_test_0_lag=np.concatenate((gtf_2013[:,-1][3:],gtf_2014[:,-1][3:]))\n",
    "# one lag \n",
    "y_train_1_lag=np.concatenate((gtf_2011[:,-1][4:],gtf_2012[:,-1][4:]))\n",
    "y_test_1_lag=np.concatenate((gtf_2013[:,-1][4:],gtf_2014[:,-1][4:]))\n",
    "# two lag \n",
    "y_train_2_lag=np.concatenate((gtf_2011[:,-1][5:],gtf_2012[:,-1][5:]))\n",
    "y_test_2_lag=np.concatenate((gtf_2013[:,-1][5:],gtf_2014[:,-1][5:]))\n",
    "# three lag \n",
    "y_train_3_lag=np.concatenate((gtf_2011[:,-1][6:],gtf_2012[:,-1][6:]))\n",
    "y_test_3_lag=np.concatenate((gtf_2013[:,-1][6:],gtf_2014[:,-1][6:]))"
   ]
  },
  {
   "cell_type": "code",
   "execution_count": 34,
   "metadata": {},
   "outputs": [],
   "source": [
    "# model "
   ]
  },
  {
   "cell_type": "code",
   "execution_count": 35,
   "metadata": {},
   "outputs": [
    {
     "name": "stdout",
     "output_type": "stream",
     "text": [
      "Selecting features with genetic algorithm.\n",
      "gen\tnevals\tavg                \tstd                    \tmin              \tmax              \n",
      "0  \t20    \t[-10000.      80.4]\t[0.         5.90254183]\t[-10000.     69.]\t[-10000.     92.]\n",
      "1  \t9     \t[-10000.      75.5]\t[0.         4.47772264]\t[-10000.     69.]\t[-10000.     85.]\n",
      "2  \t7     \t[-10000.      71.7]\t[0.         2.02731349]\t[-10000.     68.]\t[-10000.     76.]\n",
      "3  \t12    \t[-10000.      71.1]\t[0.         3.37490741]\t[-10000.     64.]\t[-10000.     78.]\n",
      "4  \t10    \t[-10000.       67.75]\t[0.         2.27760839]\t[-10000.     64.]\t[-10000.     74.]\n",
      "5  \t8     \t[-10000.      66.3]  \t[0.         1.79164729]\t[-10000.     63.]\t[-10000.     69.]\n",
      "6  \t16    \t[-10000.       65.15]\t[0.         1.82414363]\t[-10000.     62.]\t[-10000.     68.]\n",
      "7  \t12    \t[-10000.      63.9]  \t[0.         1.84119526]\t[-10000.     61.]\t[-10000.     68.]\n",
      "8  \t13    \t[-10000.      62.6]  \t[0.         2.24499443]\t[-10000.     57.]\t[-10000.     68.]\n",
      "9  \t10    \t[-10000.       62.05]\t[0.         3.05736815]\t[-10000.     58.]\t[-10000.     73.]\n",
      "10 \t17    \t[-10000.       61.55]\t[0.         2.55880832]\t[-10000.     57.]\t[-10000.     67.]\n"
     ]
    }
   ],
   "source": [
    "# zero lag\n",
    "estimator=LinearSVR()\n",
    "selector = GeneticSelectionCV(estimator,\n",
    "                                  cv=5,\n",
    "                                  verbose=2,\n",
    "                                  scoring=\"accuracy\",\n",
    "                                  max_features=7,\n",
    "                                  n_population=20,\n",
    "                                  n_generations=10)\n",
    "selector = selector.fit(x_train_0_lag,y_train_0_lag)\n"
   ]
  },
  {
   "cell_type": "code",
   "execution_count": 36,
   "metadata": {},
   "outputs": [
    {
     "data": {
      "text/plain": [
       "(98, 57)"
      ]
     },
     "execution_count": 36,
     "metadata": {},
     "output_type": "execute_result"
    }
   ],
   "source": [
    "x_train_0_lag=selector.transform(x_train_0_lag)\n",
    "x_test_0_lag=selector.transform(x_test_0_lag)\n",
    "x_train_0_lag.shape"
   ]
  },
  {
   "cell_type": "code",
   "execution_count": 37,
   "metadata": {},
   "outputs": [
    {
     "data": {
      "text/plain": [
       "0.6650470392494104"
      ]
     },
     "execution_count": 37,
     "metadata": {},
     "output_type": "execute_result"
    }
   ],
   "source": [
    "reg0 = LinearSVR().fit(x_train_0_lag,y_train_0_lag )\n",
    "reg0.score(x_train_0_lag,y_train_0_lag)"
   ]
  },
  {
   "cell_type": "code",
   "execution_count": 38,
   "metadata": {},
   "outputs": [
    {
     "data": {
      "text/plain": [
       "0.6664038772953116"
      ]
     },
     "execution_count": 38,
     "metadata": {},
     "output_type": "execute_result"
    }
   ],
   "source": [
    "reg0.score(x_test_0_lag,y_test_0_lag)"
   ]
  },
  {
   "cell_type": "code",
   "execution_count": 197,
   "metadata": {},
   "outputs": [],
   "source": [
    "# Returns the coefficient of determination R^2 of the prediction.\n",
    "# The coefficient R^2 is defined as (1 - u/v), where u is the residual sum of squares ((y_true - y_pred) ** 2).sum() \n",
    "# and v is the total sum of squares ((y_true - y_true.mean()) ** 2).sum(). The best possible score is 1.0 and it can \n",
    "# be negative (because the model can be arbitrarily worse). A constant model that always predicts the expected value \n",
    "# of y, disregarding the input features, would get a R^2 score of 0.0."
   ]
  },
  {
   "cell_type": "code",
   "execution_count": 198,
   "metadata": {},
   "outputs": [],
   "source": [
    "# reg.predict(x_test_0_lag)"
   ]
  },
  {
   "cell_type": "code",
   "execution_count": 37,
   "metadata": {},
   "outputs": [
    {
     "name": "stdout",
     "output_type": "stream",
     "text": [
      "Selecting features with genetic algorithm.\n",
      "gen\tnevals\tavg                    \tstd                    \tmin              \tmax              \n",
      "0  \t40    \t[-10000.        80.375]\t[0.         5.57981855]\t[-10000.     67.]\t[-10000.     92.]\n",
      "1  \t18    \t[-10000.        76.675]\t[0.         3.97735779]\t[-10000.     66.]\t[-10000.     84.]\n",
      "2  \t28    \t[-10000.        74.825]\t[0.         3.65983265]\t[-10000.     66.]\t[-10000.     83.]\n",
      "3  \t22    \t[-10000.        71.425]\t[0.         3.94897139]\t[-10000.     64.]\t[-10000.     77.]\n",
      "4  \t25    \t[-10000.      68.4]    \t[0.         2.74590604]\t[-10000.     64.]\t[-10000.     76.]\n",
      "5  \t31    \t[-10000.        66.675]\t[0.         3.69044374]\t[-10000.     59.]\t[-10000.     76.]\n",
      "6  \t22    \t[-10000.        63.975]\t[0.         3.33532232]\t[-10000.     57.]\t[-10000.     70.]\n",
      "7  \t17    \t[-10000.        61.075]\t[0.         4.33236367]\t[-10000.     51.]\t[-10000.     79.]\n",
      "8  \t29    \t[-10000.        58.275]\t[0.         3.89863758]\t[-10000.     49.]\t[-10000.     69.]\n",
      "9  \t28    \t[-10000.       56.65]  \t[0.         2.97951338]\t[-10000.     51.]\t[-10000.     65.]\n",
      "10 \t26    \t[-10000.       55.05]  \t[0.         2.88053814]\t[-10000.     50.]\t[-10000.     63.]\n"
     ]
    }
   ],
   "source": [
    "# one lag\n",
    "estimator=LinearSVR()\n",
    "selector = GeneticSelectionCV(estimator,\n",
    "                                  cv=5,\n",
    "                                  verbose=2,\n",
    "                                  scoring=\"accuracy\",\n",
    "                                  max_features=7,\n",
    "                                  n_population=40,\n",
    "                                  n_generations=10)\n",
    "selector = selector.fit(x_train_1_lag,y_train_1_lag)\n"
   ]
  },
  {
   "cell_type": "code",
   "execution_count": 199,
   "metadata": {},
   "outputs": [
    {
     "data": {
      "text/plain": [
       "(96, 60)"
      ]
     },
     "execution_count": 199,
     "metadata": {},
     "output_type": "execute_result"
    }
   ],
   "source": [
    "x_train_1_lag=selector.transform(x_train_1_lag)\n",
    "x_test_1_lag=selector.transform(x_test_1_lag)\n",
    "x_train_1_lag.shape"
   ]
  },
  {
   "cell_type": "code",
   "execution_count": 200,
   "metadata": {},
   "outputs": [
    {
     "data": {
      "text/plain": [
       "0.6447044160315015"
      ]
     },
     "execution_count": 200,
     "metadata": {},
     "output_type": "execute_result"
    }
   ],
   "source": [
    "# one lag\n",
    "reg1 = LinearSVR().fit(x_train_1_lag,y_train_1_lag )\n",
    "reg1.score(x_train_1_lag,y_train_1_lag)"
   ]
  },
  {
   "cell_type": "code",
   "execution_count": 201,
   "metadata": {},
   "outputs": [
    {
     "data": {
      "text/plain": [
       "0.6500050296069049"
      ]
     },
     "execution_count": 201,
     "metadata": {},
     "output_type": "execute_result"
    }
   ],
   "source": [
    "reg1.score(x_test_1_lag,y_test_1_lag)"
   ]
  },
  {
   "cell_type": "code",
   "execution_count": 122,
   "metadata": {},
   "outputs": [
    {
     "name": "stdout",
     "output_type": "stream",
     "text": [
      "Selecting features with genetic algorithm.\n",
      "gen\tnevals\tavg                              \tstd                    \tmin              \tmax              \n",
      "0  \t30    \t[-10000.             80.36666667]\t[0.         6.53953787]\t[-10000.     69.]\t[-10000.     93.]\n",
      "1  \t22    \t[-10000.             75.46666667]\t[0.         4.73098533]\t[-10000.     67.]\t[-10000.     88.]\n",
      "2  \t16    \t[-10000.      71.8]              \t[0.         2.30072452]\t[-10000.     67.]\t[-10000.     76.]\n",
      "3  \t21    \t[-10000.      69.6]              \t[0.         2.91661905]\t[-10000.     63.]\t[-10000.     76.]\n",
      "4  \t18    \t[-10000.      67.9]              \t[0.         2.57358375]\t[-10000.     61.]\t[-10000.     72.]\n",
      "5  \t20    \t[-10000.             65.06666667]\t[0.        2.5157283]  \t[-10000.     61.]\t[-10000.     71.]\n",
      "6  \t15    \t[-10000.             63.06666667]\t[0.         2.17460086]\t[-10000.     59.]\t[-10000.     69.]\n",
      "7  \t17    \t[-10000.             61.56666667]\t[0.         2.33357142]\t[-10000.     58.]\t[-10000.     68.]\n",
      "8  \t19    \t[-10000.             60.13333333]\t[0.        2.5914389]  \t[-10000.     54.]\t[-10000.     68.]\n",
      "9  \t17    \t[-10000.      58.7]              \t[0.         3.15330514]\t[-10000.     54.]\t[-10000.     68.]\n",
      "10 \t10    \t[-10000.      56.1]              \t[0.         1.93821223]\t[-10000.     54.]\t[-10000.     62.]\n"
     ]
    }
   ],
   "source": [
    "# two lag\n",
    "estimator=LinearSVR()\n",
    "selector = GeneticSelectionCV(estimator,\n",
    "                                  cv=5,\n",
    "                                  verbose=2,\n",
    "                                  scoring=\"accuracy\",\n",
    "                                  max_features=7,\n",
    "                                  n_population=30,\n",
    "                                  n_generations=10)\n",
    "selector = selector.fit(x_train_2_lag,y_train_2_lag)\n"
   ]
  },
  {
   "cell_type": "code",
   "execution_count": 202,
   "metadata": {},
   "outputs": [
    {
     "data": {
      "text/plain": [
       "(94, 60)"
      ]
     },
     "execution_count": 202,
     "metadata": {},
     "output_type": "execute_result"
    }
   ],
   "source": [
    "x_train_2_lag=selector.transform(x_train_2_lag)\n",
    "x_test_2_lag=selector.transform(x_test_2_lag)\n",
    "x_train_2_lag.shape"
   ]
  },
  {
   "cell_type": "code",
   "execution_count": 207,
   "metadata": {},
   "outputs": [
    {
     "data": {
      "text/plain": [
       "0.533473495904278"
      ]
     },
     "execution_count": 207,
     "metadata": {},
     "output_type": "execute_result"
    }
   ],
   "source": [
    "# two lag\n",
    "reg2 = LinearSVR().fit(x_train_2_lag,y_train_2_lag )\n",
    "reg2.score(x_train_2_lag,y_train_2_lag)"
   ]
  },
  {
   "cell_type": "code",
   "execution_count": 208,
   "metadata": {},
   "outputs": [
    {
     "data": {
      "text/plain": [
       "0.5231604090096854"
      ]
     },
     "execution_count": 208,
     "metadata": {},
     "output_type": "execute_result"
    }
   ],
   "source": [
    "reg2.score(x_test_2_lag,y_test_2_lag)"
   ]
  },
  {
   "cell_type": "code",
   "execution_count": 178,
   "metadata": {},
   "outputs": [
    {
     "name": "stdout",
     "output_type": "stream",
     "text": [
      "Selecting features with genetic algorithm.\n",
      "gen\tnevals\tavg                  \tstd                    \tmin              \tmax              \n",
      "0  \t20    \t[-10000.       81.45]\t[0.         5.44495179]\t[-10000.     72.]\t[-10000.     94.]\n",
      "1  \t10    \t[-10000.      77.5]  \t[0.         4.12916456]\t[-10000.     70.]\t[-10000.     86.]\n",
      "2  \t14    \t[-10000.       74.25]\t[0.         2.98119104]\t[-10000.     70.]\t[-10000.     81.]\n",
      "3  \t13    \t[-10000.       72.15]\t[0.         2.53525147]\t[-10000.     66.]\t[-10000.     77.]\n",
      "4  \t11    \t[-10000.      70.7]  \t[0.         2.86530976]\t[-10000.     66.]\t[-10000.     79.]\n",
      "5  \t15    \t[-10000.     69.]    \t[0.         2.48997992]\t[-10000.     63.]\t[-10000.     73.]\n",
      "6  \t16    \t[-10000.      67.8]  \t[0.         3.17175031]\t[-10000.     62.]\t[-10000.     74.]\n",
      "7  \t4     \t[-10000.      65.7]  \t[0.         3.27261363]\t[-10000.     62.]\t[-10000.     74.]\n",
      "8  \t8     \t[-10000.       63.85]\t[0.         2.21979729]\t[-10000.     62.]\t[-10000.     69.]\n",
      "9  \t14    \t[-10000.       63.25]\t[0.        2.2107691]  \t[-10000.     61.]\t[-10000.     69.]\n",
      "10 \t15    \t[-10000.       62.05]\t[0.         1.28354977]\t[-10000.     60.]\t[-10000.     66.]\n"
     ]
    }
   ],
   "source": [
    "# three lag\n",
    "estimator=LinearSVR()\n",
    "selector = GeneticSelectionCV(estimator,\n",
    "                                  cv=5,\n",
    "                                  verbose=2,\n",
    "                                  scoring=\"accuracy\",\n",
    "                                  max_features=7,\n",
    "                                  n_population=20,\n",
    "                                  n_generations=10)\n",
    "selector = selector.fit(x_train_3_lag,y_train_3_lag)\n"
   ]
  },
  {
   "cell_type": "code",
   "execution_count": 209,
   "metadata": {},
   "outputs": [
    {
     "data": {
      "text/plain": [
       "(92, 60)"
      ]
     },
     "execution_count": 209,
     "metadata": {},
     "output_type": "execute_result"
    }
   ],
   "source": [
    "x_train_3_lag=selector.transform(x_train_3_lag)\n",
    "x_test_3_lag=selector.transform(x_test_3_lag)\n",
    "x_train_3_lag.shape"
   ]
  },
  {
   "cell_type": "code",
   "execution_count": 216,
   "metadata": {},
   "outputs": [
    {
     "data": {
      "text/plain": [
       "0.43686269618977724"
      ]
     },
     "execution_count": 216,
     "metadata": {},
     "output_type": "execute_result"
    }
   ],
   "source": [
    "# three lag\n",
    "reg3 =LinearSVR().fit(x_train_3_lag,y_train_3_lag )\n",
    "reg3.score(x_train_3_lag,y_train_3_lag)"
   ]
  },
  {
   "cell_type": "code",
   "execution_count": 217,
   "metadata": {},
   "outputs": [
    {
     "data": {
      "text/plain": [
       "0.4156424293951342"
      ]
     },
     "execution_count": 217,
     "metadata": {},
     "output_type": "execute_result"
    }
   ],
   "source": [
    "reg3.score(x_test_3_lag,y_test_3_lag)"
   ]
  },
  {
   "cell_type": "code",
   "execution_count": null,
   "metadata": {},
   "outputs": [],
   "source": []
  },
  {
   "cell_type": "code",
   "execution_count": null,
   "metadata": {},
   "outputs": [],
   "source": []
  },
  {
   "cell_type": "code",
   "execution_count": 218,
   "metadata": {},
   "outputs": [],
   "source": [
    "gtf_0_p_train=reg0.predict(x_train_0_lag)\n",
    "gtf_0_a_train=y_train_0_lag\n",
    "gtf_0_p_test=reg0.predict(x_test_0_lag)\n",
    "gtf_0_a_test=y_test_0_lag\n",
    "\n",
    "gtf_1_p_train=reg1.predict(x_train_1_lag)\n",
    "gtf_1_a_train=y_train_1_lag\n",
    "gtf_1_p_test=reg1.predict(x_test_1_lag)\n",
    "gtf_1_a_test=y_test_1_lag\n",
    "\n",
    "gtf_2_p_train=reg2.predict(x_train_2_lag)\n",
    "gtf_2_a_train=y_train_2_lag\n",
    "gtf_2_p_test=reg2.predict(x_test_2_lag)\n",
    "gtf_2_a_test=y_test_2_lag\n",
    "\n",
    "gtf_3_p_train=reg3.predict(x_train_3_lag)\n",
    "gtf_3_a_train=y_train_3_lag\n",
    "gtf_3_p_test=reg3.predict(x_test_3_lag)\n",
    "gtf_3_a_test=y_test_3_lag\n",
    "\n",
    "np.save(\"gtf_0_p_test\",gtf_0_p_test)\n",
    "np.save(\"gtf_0_a_test\",gtf_0_a_test)\n",
    "np.save(\"gtf_0_p_train\",gtf_0_p_train)\n",
    "np.save(\"gtf_0_a_train\",gtf_0_a_train)\n",
    "np.save(\"gtf_1_p_test\",gtf_1_p_test)\n",
    "np.save(\"gtf_1_a_test\",gtf_1_a_test)\n",
    "np.save(\"gtf_1_p_train\",gtf_1_p_train)\n",
    "np.save(\"gtf_1_a_train\",gtf_1_a_train)\n",
    "np.save(\"gtf_2_p_test\",gtf_2_p_test)\n",
    "np.save(\"gtf_2_a_test\",gtf_2_a_test)\n",
    "np.save(\"gtf_2_p_train\",gtf_2_p_train)\n",
    "np.save(\"gtf_2_a_train\",gtf_2_a_train)\n",
    "np.save(\"gtf_3_p_test\",gtf_3_p_test)\n",
    "np.save(\"gtf_3_a_test\",gtf_3_a_test)\n",
    "np.save(\"gtf_3_p_train\",gtf_3_p_train)\n",
    "np.save(\"gtf_3_a_train\",gtf_3_a_train)\n",
    "\n"
   ]
  },
  {
   "cell_type": "code",
   "execution_count": null,
   "metadata": {},
   "outputs": [],
   "source": []
  },
  {
   "cell_type": "code",
   "execution_count": null,
   "metadata": {},
   "outputs": [],
   "source": []
  },
  {
   "cell_type": "code",
   "execution_count": null,
   "metadata": {},
   "outputs": [],
   "source": []
  }
 ],
 "metadata": {
  "kernelspec": {
   "display_name": "Python 3",
   "language": "python",
   "name": "python3"
  },
  "language_info": {
   "codemirror_mode": {
    "name": "ipython",
    "version": 3
   },
   "file_extension": ".py",
   "mimetype": "text/x-python",
   "name": "python",
   "nbconvert_exporter": "python",
   "pygments_lexer": "ipython3",
   "version": "3.5.4"
  }
 },
 "nbformat": 4,
 "nbformat_minor": 2
}
